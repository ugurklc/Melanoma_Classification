{
 "cells": [
  {
   "cell_type": "code",
   "execution_count": 1,
   "metadata": {},
   "outputs": [
    {
     "name": "stderr",
     "output_type": "stream",
     "text": [
      "Using TensorFlow backend.\n"
     ]
    }
   ],
   "source": [
    "import tensorflow as tf\n",
    "import os\n",
    "import matplotlib.pyplot as plt\n",
    "import numpy as np\n",
    "import pandas as pd\n",
    "from functools import partial\n",
    "from tensorflow import keras\n",
    "from tensorflow.keras.models import Sequential\n",
    "from tensorflow.keras.layers import Activation, Dropout, Flatten, Dense, Conv2D, MaxPool2D\n",
    "from datetime import datetime\n",
    "from keras.preprocessing import image\n",
    "AUTOTUNE = tf.data.experimental.AUTOTUNE"
   ]
  },
  {
   "cell_type": "code",
   "execution_count": 2,
   "metadata": {},
   "outputs": [],
   "source": [
    "# Working directory; to the tfrecord files\n",
    "cwd = os.getcwd()\n",
    "tfrecord_files_dir = (cwd + '/tfrecords')"
   ]
  },
  {
   "cell_type": "code",
   "execution_count": 3,
   "metadata": {},
   "outputs": [],
   "source": [
    "# Prepare the lists of train and test tfrecords files\n",
    "tfrecord_files = os.listdir(tfrecord_files_dir)\n",
    "full_train_tfrecords = []\n",
    "test_tfrecords = []\n",
    "for i in tfrecord_files:\n",
    "    if i[:4] == 'trai':\n",
    "        full_train_tfrecords.append(tfrecord_files_dir + '/' + i)\n",
    "    elif i[:4] == 'test':\n",
    "        test_tfrecords.append(tfrecord_files_dir + '/' + i)"
   ]
  },
  {
   "cell_type": "code",
   "execution_count": 4,
   "metadata": {},
   "outputs": [],
   "source": [
    "input_shape = [300,300,3]"
   ]
  },
  {
   "cell_type": "code",
   "execution_count": 5,
   "metadata": {},
   "outputs": [],
   "source": [
    "# Define functions to create train and validation datasets\n",
    "\n",
    "def preprocess(tfrecord):\n",
    "    train_feature_descriptions = {\n",
    "        \"image\": tf.io.VarLenFeature(tf.string),\n",
    "        \"image_name\": tf.io.FixedLenFeature([], tf.string, default_value=\"\"),\n",
    "        \"target\": tf.io.FixedLenFeature([], tf.int64)\n",
    "    }\n",
    "    example = tf.io.parse_single_example(tfrecord, train_feature_descriptions)\n",
    "    image = tf.io.decode_image(example[\"image\"].values[0])\n",
    "    image = tf.reshape(image, shape=[1024, 1024, 3])\n",
    "    image = tf.image.resize(image, input_shape[:2], method='nearest')\n",
    "    return image, example[\"target\"]\n",
    "\n",
    "def create_dataset(filepaths, batch_size=16):\n",
    "    full_dataset = tf.data.TFRecordDataset(filepaths)\n",
    "    \n",
    "    train_size = int(0.8 * len(list(full_dataset)))\n",
    "    valid_size = int(0.2 * len(list(full_dataset)))\n",
    "    \n",
    "    full_dataset = full_dataset.shuffle(len(list(full_dataset)))\n",
    "    full_dataset = full_dataset.map(preprocess)\n",
    "    \n",
    "    train_dataset = full_dataset.take(train_size)\n",
    "    valid_dataset = full_dataset.skip(valid_size)\n",
    "\n",
    "    return train_dataset, valid_dataset, train_size, valid_size"
   ]
  },
  {
   "cell_type": "code",
   "execution_count": 6,
   "metadata": {},
   "outputs": [],
   "source": [
    "train_set, valid_set, train_size, valid_size = create_dataset(full_train_tfrecords)"
   ]
  },
  {
   "cell_type": "code",
   "execution_count": 7,
   "metadata": {},
   "outputs": [
    {
     "data": {
      "text/plain": [
       "<TakeDataset shapes: ((300, 300, 3), ()), types: (tf.uint8, tf.int64)>"
      ]
     },
     "execution_count": 7,
     "metadata": {},
     "output_type": "execute_result"
    }
   ],
   "source": [
    "train_set"
   ]
  },
  {
   "cell_type": "code",
   "execution_count": 8,
   "metadata": {},
   "outputs": [
    {
     "data": {
      "text/plain": [
       "<SkipDataset shapes: ((300, 300, 3), ()), types: (tf.uint8, tf.int64)>"
      ]
     },
     "execution_count": 8,
     "metadata": {},
     "output_type": "execute_result"
    }
   ],
   "source": [
    "valid_set"
   ]
  },
  {
   "cell_type": "code",
   "execution_count": 9,
   "metadata": {},
   "outputs": [
    {
     "data": {
      "text/plain": [
       "26500"
      ]
     },
     "execution_count": 9,
     "metadata": {},
     "output_type": "execute_result"
    }
   ],
   "source": [
    "train_size"
   ]
  },
  {
   "cell_type": "code",
   "execution_count": 10,
   "metadata": {},
   "outputs": [
    {
     "data": {
      "text/plain": [
       "6625"
      ]
     },
     "execution_count": 10,
     "metadata": {},
     "output_type": "execute_result"
    }
   ],
   "source": [
    "valid_size"
   ]
  },
  {
   "cell_type": "code",
   "execution_count": 11,
   "metadata": {},
   "outputs": [],
   "source": [
    "def convert(image, label):\n",
    "    image = tf.image.convert_image_dtype(image, tf.float32) # Cast and normalize the image to [0,1]\n",
    "    return image, label\n",
    "\n",
    "def augment(image,label):\n",
    "    image,label = convert(image, label)\n",
    "    image = tf.image.resize_with_crop_or_pad(image, 1244, 1244) # Add 220 pixels of padding\n",
    "    image = tf.image.random_crop(image, size=[1024, 1024, 3]) # Random crop back to 1024 x 1024\n",
    "    image = tf.image.random_flip_left_right(image)\n",
    "    image = tf.image.random_flip_up_down(image)\n",
    "    image = tf.image.random_brightness(image, max_delta=0.7) # Random brightness\n",
    "    image = tf.image.random_contrast(image, 0.2, 0.7)\n",
    "    image = tf.image.random_saturation(image, 0.2, 0.7)\n",
    "    image = tf.image.resize(image, input_shape[:2], method='nearest')\n",
    "    return image,label"
   ]
  },
  {
   "cell_type": "code",
   "execution_count": 12,
   "metadata": {},
   "outputs": [],
   "source": [
    "BATCH_SIZE = 64"
   ]
  },
  {
   "cell_type": "code",
   "execution_count": 13,
   "metadata": {},
   "outputs": [],
   "source": [
    "augmented_train_batches = (\n",
    "    train_set.shuffle(train_size)\n",
    "    .map(augment, num_parallel_calls=AUTOTUNE)\n",
    "    .batch(BATCH_SIZE)\n",
    "    .prefetch(AUTOTUNE)\n",
    ") "
   ]
  },
  {
   "cell_type": "code",
   "execution_count": 14,
   "metadata": {},
   "outputs": [
    {
     "data": {
      "text/plain": [
       "<PrefetchDataset shapes: ((None, 300, 300, 3), (None,)), types: (tf.float32, tf.int64)>"
      ]
     },
     "execution_count": 14,
     "metadata": {},
     "output_type": "execute_result"
    }
   ],
   "source": [
    "augmented_train_batches"
   ]
  },
  {
   "cell_type": "code",
   "execution_count": 15,
   "metadata": {},
   "outputs": [],
   "source": [
    "validation_batches = (valid_set.map(convert, num_parallel_calls=AUTOTUNE).batch(BATCH_SIZE))"
   ]
  },
  {
   "cell_type": "code",
   "execution_count": 16,
   "metadata": {},
   "outputs": [
    {
     "data": {
      "text/plain": [
       "<BatchDataset shapes: ((None, 300, 300, 3), (None,)), types: (tf.float32, tf.int64)>"
      ]
     },
     "execution_count": 16,
     "metadata": {},
     "output_type": "execute_result"
    }
   ],
   "source": [
    "validation_batches"
   ]
  },
  {
   "cell_type": "code",
   "execution_count": 17,
   "metadata": {},
   "outputs": [
    {
     "name": "stdout",
     "output_type": "stream",
     "text": [
      "Model: \"sequential\"\n",
      "_________________________________________________________________\n",
      "Layer (type)                 Output Shape              Param #   \n",
      "=================================================================\n",
      "conv2d (Conv2D)              (None, 300, 300, 64)      1792      \n",
      "_________________________________________________________________\n",
      "max_pooling2d (MaxPooling2D) (None, 150, 150, 64)      0         \n",
      "_________________________________________________________________\n",
      "conv2d_1 (Conv2D)            (None, 150, 150, 128)     73856     \n",
      "_________________________________________________________________\n",
      "conv2d_2 (Conv2D)            (None, 150, 150, 128)     147584    \n",
      "_________________________________________________________________\n",
      "max_pooling2d_1 (MaxPooling2 (None, 75, 75, 128)       0         \n",
      "_________________________________________________________________\n",
      "conv2d_3 (Conv2D)            (None, 75, 75, 256)       295168    \n",
      "_________________________________________________________________\n",
      "conv2d_4 (Conv2D)            (None, 75, 75, 256)       590080    \n",
      "_________________________________________________________________\n",
      "max_pooling2d_2 (MaxPooling2 (None, 37, 37, 256)       0         \n",
      "_________________________________________________________________\n",
      "flatten (Flatten)            (None, 350464)            0         \n",
      "_________________________________________________________________\n",
      "dense (Dense)                (None, 128)               44859520  \n",
      "_________________________________________________________________\n",
      "dropout (Dropout)            (None, 128)               0         \n",
      "_________________________________________________________________\n",
      "dense_1 (Dense)              (None, 64)                8256      \n",
      "_________________________________________________________________\n",
      "dropout_1 (Dropout)          (None, 64)                0         \n",
      "_________________________________________________________________\n",
      "dense_2 (Dense)              (None, 1)                 65        \n",
      "=================================================================\n",
      "Total params: 45,976,321\n",
      "Trainable params: 45,976,321\n",
      "Non-trainable params: 0\n",
      "_________________________________________________________________\n"
     ]
    }
   ],
   "source": [
    "DefaultConv2D = partial(keras.layers.Conv2D, kernel_size=3, activation='relu', padding=\"SAME\")\n",
    "\n",
    "model = keras.models.Sequential([\n",
    "    DefaultConv2D(filters=64, kernel_size=3, input_shape=input_shape),\n",
    "    keras.layers.MaxPooling2D(pool_size=2),\n",
    "    DefaultConv2D(filters=128),\n",
    "    DefaultConv2D(filters=128),\n",
    "    keras.layers.MaxPooling2D(pool_size=2),\n",
    "    DefaultConv2D(filters=256),\n",
    "    DefaultConv2D(filters=256),\n",
    "    keras.layers.MaxPooling2D(pool_size=2),\n",
    "    keras.layers.Flatten(),\n",
    "    keras.layers.Dense(units=128, activation='relu'),\n",
    "    keras.layers.Dropout(0.5),\n",
    "    keras.layers.Dense(units=64, activation='relu'),\n",
    "    keras.layers.Dropout(0.5),\n",
    "    keras.layers.Dense(units=1, activation='sigmoid'),\n",
    "])\n",
    "\n",
    "model.compile(\n",
    "    optimizer=keras.optimizers.SGD(lr=0.0001, momentum=0.9, nesterov=True),\n",
    "    loss='binary_crossentropy',\n",
    "    metrics=[tf.keras.metrics.AUC()])\n",
    "\n",
    "model.summary()"
   ]
  },
  {
   "cell_type": "code",
   "execution_count": 18,
   "metadata": {},
   "outputs": [],
   "source": [
    "logs = os.path.join(os.curdir, \"my_logs\", \"run_\" + datetime.now().strftime(\"%Y%m%d_%H%M%S\"))\n",
    "tensorboard_cb = tf.keras.callbacks.TensorBoard(log_dir=logs, histogram_freq=1, profile_batch=10)\n",
    "early_stopping_cb = keras.callbacks.EarlyStopping(patience=10)\n",
    "checkpoint_cb = keras.callbacks.ModelCheckpoint(\"my_model_tfrecords_data_aug.h5\", save_best_only=True)"
   ]
  },
  {
   "cell_type": "code",
   "execution_count": 19,
   "metadata": {},
   "outputs": [
    {
     "name": "stdout",
     "output_type": "stream",
     "text": [
      "Epoch 1/80\n",
      "415/415 [==============================] - 1105s 3s/step - loss: 0.2101 - auc: 0.5068 - val_loss: 0.1136 - val_auc: 0.5583\n",
      "Epoch 2/80\n",
      "415/415 [==============================] - 1084s 3s/step - loss: 0.1250 - auc: 0.5060 - val_loss: 0.1081 - val_auc: 0.5786\n",
      "Epoch 3/80\n",
      "415/415 [==============================] - 1091s 3s/step - loss: 0.1188 - auc: 0.5203 - val_loss: 0.0983 - val_auc: 0.6080\n",
      "Epoch 4/80\n",
      "415/415 [==============================] - 1092s 3s/step - loss: 0.1163 - auc: 0.5140 - val_loss: 0.0936 - val_auc: 0.6186\n",
      "Epoch 5/80\n",
      "415/415 [==============================] - 1084s 3s/step - loss: 0.1168 - auc: 0.4762 - val_loss: 0.0919 - val_auc: 0.6639\n",
      "Epoch 6/80\n",
      "415/415 [==============================] - 1099s 3s/step - loss: 0.1143 - auc: 0.5039 - val_loss: 0.0911 - val_auc: 0.6954\n",
      "Epoch 7/80\n",
      "415/415 [==============================] - 1081s 3s/step - loss: 0.1065 - auc: 0.5053 - val_loss: 0.0910 - val_auc: 0.6822\n",
      "Epoch 8/80\n",
      "415/415 [==============================] - 1082s 3s/step - loss: 0.1092 - auc: 0.4926 - val_loss: 0.0930 - val_auc: 0.6716\n",
      "Epoch 9/80\n",
      "415/415 [==============================] - 1087s 3s/step - loss: 0.1088 - auc: 0.4960 - val_loss: 0.0903 - val_auc: 0.6345\n",
      "Epoch 10/80\n",
      "415/415 [==============================] - 1087s 3s/step - loss: 0.1032 - auc: 0.5086 - val_loss: 0.0863 - val_auc: 0.6323\n",
      "Epoch 11/80\n",
      "415/415 [==============================] - 1085s 3s/step - loss: 0.1044 - auc: 0.5219 - val_loss: 0.0886 - val_auc: 0.6882\n",
      "Epoch 12/80\n",
      "415/415 [==============================] - 1086s 3s/step - loss: 0.1084 - auc: 0.4942 - val_loss: 0.0839 - val_auc: 0.6452\n",
      "Epoch 13/80\n",
      "415/415 [==============================] - 1091s 3s/step - loss: 0.1068 - auc: 0.5145 - val_loss: 0.0854 - val_auc: 0.6669\n",
      "Epoch 14/80\n",
      "415/415 [==============================] - 1090s 3s/step - loss: 0.1061 - auc: 0.5030 - val_loss: 0.0854 - val_auc: 0.6545\n",
      "Epoch 15/80\n",
      "415/415 [==============================] - 1088s 3s/step - loss: 0.1034 - auc: 0.5074 - val_loss: 0.0913 - val_auc: 0.6510\n",
      "Epoch 16/80\n",
      "415/415 [==============================] - 1086s 3s/step - loss: 0.1063 - auc: 0.4961 - val_loss: 0.0904 - val_auc: 0.6268\n",
      "Epoch 17/80\n",
      "415/415 [==============================] - 1081s 3s/step - loss: 0.1031 - auc: 0.5030 - val_loss: 0.0864 - val_auc: 0.6191\n",
      "Epoch 18/80\n",
      "415/415 [==============================] - 1082s 3s/step - loss: 0.1071 - auc: 0.5053 - val_loss: 0.0881 - val_auc: 0.6724\n",
      "Epoch 19/80\n",
      "415/415 [==============================] - 1090s 3s/step - loss: 0.1016 - auc: 0.4990 - val_loss: 0.0897 - val_auc: 0.6666\n",
      "Epoch 20/80\n",
      "415/415 [==============================] - 1084s 3s/step - loss: 0.1012 - auc: 0.4892 - val_loss: 0.0859 - val_auc: 0.6766\n",
      "Epoch 21/80\n",
      "415/415 [==============================] - 1080s 3s/step - loss: 0.1008 - auc: 0.4884 - val_loss: 0.0914 - val_auc: 0.6935\n",
      "Epoch 22/80\n",
      "415/415 [==============================] - 1086s 3s/step - loss: 0.1010 - auc: 0.5032 - val_loss: 0.0902 - val_auc: 0.6354\n"
     ]
    }
   ],
   "source": [
    "history = model.fit(\n",
    "    augmented_train_batches, \n",
    "    epochs=80, \n",
    "    validation_data=validation_batches, \n",
    "    callbacks=[early_stopping_cb, checkpoint_cb, tensorboard_cb])"
   ]
  },
  {
   "cell_type": "code",
   "execution_count": 24,
   "metadata": {},
   "outputs": [],
   "source": [
    "# Define functions to create test dataset\n",
    "\n",
    "def get_test_images(tfrecord):\n",
    "    test_feature_descriptions = {\n",
    "        \"image\": tf.io.VarLenFeature(tf.string),\n",
    "        \"image_name\": tf.io.FixedLenFeature([], tf.string, default_value=\"\"),\n",
    "    }\n",
    "    example = tf.io.parse_single_example(tfrecord, test_feature_descriptions)\n",
    "    image = tf.io.decode_image(example[\"image\"].values[0])\n",
    "    image = tf.reshape(image, shape=[1024, 1024, 3])\n",
    "    image = tf.image.resize(image, input_shape[:2], method='nearest')\n",
    "    return image/255, example[\"image_name\"]\n",
    "\n",
    "def create_test_dataset(filepaths, n_read_threads=5, n_parse_threads=5, batch_size=1):\n",
    "    dataset = tf.data.TFRecordDataset(filepaths, num_parallel_reads=n_read_threads)\n",
    "    dataset = dataset.map(get_test_images, num_parallel_calls=n_parse_threads)\n",
    "    dataset = dataset.batch(batch_size)\n",
    "    return dataset.prefetch(1)"
   ]
  },
  {
   "cell_type": "code",
   "execution_count": 25,
   "metadata": {},
   "outputs": [],
   "source": [
    "test_set = create_test_dataset(test_tfrecords)"
   ]
  },
  {
   "cell_type": "code",
   "execution_count": 26,
   "metadata": {},
   "outputs": [
    {
     "data": {
      "text/plain": [
       "<PrefetchDataset shapes: ((None, 300, 300, 3), (None,)), types: (tf.float32, tf.string)>"
      ]
     },
     "execution_count": 26,
     "metadata": {},
     "output_type": "execute_result"
    }
   ],
   "source": [
    "test_set"
   ]
  },
  {
   "cell_type": "code",
   "execution_count": 27,
   "metadata": {},
   "outputs": [],
   "source": [
    "test_images = []\n",
    "predictions = []\n",
    "\n",
    "def get_predictions(tfrecords):\n",
    "    \n",
    "    for item in tfrecords:\n",
    "        img_no = item[1].numpy()[0]\n",
    "        test_images.append(img_no.decode('utf-8'))\n",
    "        img = item[0] \n",
    "        pred = model.predict_classes(img)\n",
    "        predictions.append(pred[0][0])\n",
    "        \n",
    "    predictions_d = pd.DataFrame(list(zip(test_images, predictions)), columns =['image_name', 'target'])\n",
    "    predictions_df = predictions_d.sort_values(by=['image_name'])\n",
    "    \n",
    "    predictions_df.to_csv(os.path.join(cwd, 'predictions.csv'), index = False, header=True)\n",
    "    \n",
    "    return predictions_df"
   ]
  },
  {
   "cell_type": "code",
   "execution_count": 28,
   "metadata": {},
   "outputs": [],
   "source": [
    "predictions_tfrecords = get_predictions(test_set)"
   ]
  },
  {
   "cell_type": "code",
   "execution_count": 29,
   "metadata": {},
   "outputs": [
    {
     "data": {
      "text/plain": [
       "10982"
      ]
     },
     "execution_count": 29,
     "metadata": {},
     "output_type": "execute_result"
    }
   ],
   "source": [
    "np.array(predictions_tfrecords['target']).sum()"
   ]
  }
 ],
 "metadata": {
  "kernelspec": {
   "display_name": "Tensorflow 2.1/Keras Py3.7",
   "language": "python",
   "name": "tensorflow210_py37"
  },
  "language_info": {
   "codemirror_mode": {
    "name": "ipython",
    "version": 3
   },
   "file_extension": ".py",
   "mimetype": "text/x-python",
   "name": "python",
   "nbconvert_exporter": "python",
   "pygments_lexer": "ipython3",
   "version": "3.7.5"
  }
 },
 "nbformat": 4,
 "nbformat_minor": 4
}
