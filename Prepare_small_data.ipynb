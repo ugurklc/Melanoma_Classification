{
 "cells": [
  {
   "cell_type": "code",
   "execution_count": 1,
   "metadata": {},
   "outputs": [
    {
     "name": "stderr",
     "output_type": "stream",
     "text": [
      "Using TensorFlow backend.\n"
     ]
    }
   ],
   "source": [
    "# Import the required libraries\n",
    "\n",
    "import os\n",
    "import zipfile\n",
    "import random\n",
    "import tensorflow as tf\n",
    "from shutil import copyfile, rmtree, move\n",
    "import matplotlib.pyplot as plt\n",
    "import numpy as np\n",
    "import pandas as pd\n",
    "from functools import partial\n",
    "from matplotlib.image import imread\n",
    "import matplotlib.image as mpimg\n",
    "from tensorflow import keras\n",
    "from keras.preprocessing import image\n",
    "from tensorflow.keras.preprocessing.image import ImageDataGenerator\n",
    "from tensorflow.keras.models import Sequential\n",
    "from tensorflow.keras.layers import Activation, Dropout, Flatten, Dense, Conv2D, MaxPool2D"
   ]
  },
  {
   "cell_type": "code",
   "execution_count": 17,
   "metadata": {},
   "outputs": [],
   "source": [
    "source_path = '/sfs/lustre/bahamut/scratch/uk7ud/Kaggle Melanoma/source'\n",
    "source_benign_path = os.path.join(source_path, 'benign')\n",
    "source_melignant_path = os.path.join(source_path, 'melignant')\n",
    "data_path = '/sfs/lustre/bahamut/scratch/uk7ud/Kaggle Melanoma/data'\n",
    "train_path = os.path.join(data_path, 'train')\n",
    "train_benign_path = os.path.join(train_path, 'benign')\n",
    "train_melignant_path = os.path.join(train_path, 'melignant')\n",
    "validation_path = os.path.join(data_path, 'validation')\n",
    "validation_benign_path = os.path.join(validation_path, 'benign')\n",
    "validation_melignant_path = os.path.join(validation_path, 'melignant')\n",
    "\n",
    "# Create new directories for small train and validation data\n",
    "s_data_path = '/sfs/lustre/bahamut/scratch/uk7ud/Kaggle Melanoma/s_data'\n",
    "s_train_path = os.path.join(s_data_path, 's_train')\n",
    "s_train_benign_path = os.path.join(s_train_path, 's_benign')\n",
    "s_train_melignant_path = os.path.join(s_train_path, 's_melignant')\n",
    "s_validation_path = os.path.join(s_data_path, 's_validation')\n",
    "s_validation_benign_path = os.path.join(s_validation_path, 's_benign')\n",
    "s_validation_melignant_path = os.path.join(s_validation_path, 's_melignant')\n",
    "\n",
    "try:\n",
    "# Create the directories\n",
    "    os.mkdir(s_data_path)\n",
    "    os.mkdir(s_train_path)\n",
    "    os.mkdir(s_train_benign_path)\n",
    "    os.mkdir(s_train_melignant_path)\n",
    "    os.mkdir(s_validation_path)\n",
    "    os.mkdir(s_validation_benign_path)\n",
    "    os.mkdir(s_validation_melignant_path)\n",
    "   \n",
    "except OSError:\n",
    "    pass"
   ]
  },
  {
   "cell_type": "code",
   "execution_count": 18,
   "metadata": {},
   "outputs": [],
   "source": [
    "len_train_benign = len(os.listdir(train_benign_path))\n",
    "len_train_melignant = len(os.listdir(train_melignant_path))\n",
    "len_train_total = len_train_benign + len_train_melignant\n",
    "train_melignant_benign_ratio =  len_train_melignant/len_train_benign\n",
    "\n",
    "len_validation_benign = len(os.listdir(validation_benign_path))\n",
    "len_validation_melignant = len(os.listdir(validation_melignant_path))\n",
    "len_validation_total = len_validation_benign + len_validation_melignant\n",
    "validation_melignant_benign_ratio =  len_validation_melignant/len_validation_benign"
   ]
  },
  {
   "cell_type": "code",
   "execution_count": 19,
   "metadata": {},
   "outputs": [
    {
     "name": "stdout",
     "output_type": "stream",
     "text": [
      "Total Train Benign: 26033\n",
      "Total Train Melignant: 467\n",
      "Train Total: 26500\n",
      "Train Melignant/Benign: 0.01793877002266354\n",
      "\n",
      "Total Validation Benign: 6509\n",
      "Total Validation Melignant: 117\n",
      "Validation Total: 6626\n",
      "Validation Melignant/Benign: 0.01797511138423721\n"
     ]
    }
   ],
   "source": [
    "print('Total Train Benign:', len_train_benign)\n",
    "print('Total Train Melignant:', len_train_melignant)\n",
    "print('Train Total:', len_train_total)\n",
    "print('Train Melignant/Benign:', train_melignant_benign_ratio)\n",
    "\n",
    "print('\\nTotal Validation Benign:', len_validation_benign)\n",
    "print('Total Validation Melignant:', len_validation_melignant)\n",
    "print('Validation Total:', len_validation_total)\n",
    "print('Validation Melignant/Benign:',validation_melignant_benign_ratio)"
   ]
  },
  {
   "cell_type": "code",
   "execution_count": 28,
   "metadata": {},
   "outputs": [],
   "source": [
    "def split_data(source, s_train, s_validation, split_size):\n",
    "\n",
    "    list_source = os.listdir(source)\n",
    "    randomized_list = random.sample(list_source, int(len(list_source)*0.1))\n",
    "    \n",
    "    for i, item in enumerate(randomized_list):\n",
    "        if i < int(split_size*len(randomized_list)):\n",
    "            copyfile(os.path.join(source,item), os.path.join(s_train,item))\n",
    "        else:\n",
    "            copyfile(os.path.join(source,item), os.path.join(s_validation,item))\n",
    "\n",
    "split_size = .8\n",
    "split_data(source_benign_path, s_train_benign_path, s_validation_benign_path, split_size)\n",
    "split_data(source_melignant_path, s_train_melignant_path, s_validation_melignant_path, split_size)"
   ]
  },
  {
   "cell_type": "code",
   "execution_count": 29,
   "metadata": {},
   "outputs": [],
   "source": [
    "len_s_train_benign = len(os.listdir(s_train_benign_path))\n",
    "len_s_train_melignant = len(os.listdir(s_train_melignant_path))\n",
    "len_s_train_total = len_train_benign + len_train_melignant\n",
    "train_s_melignant_benign_ratio =  len_s_train_melignant/len_s_train_benign\n",
    "\n",
    "len_s_validation_benign = len(os.listdir(s_validation_benign_path))\n",
    "len_s_validation_melignant = len(os.listdir(s_validation_melignant_path))\n",
    "len_s_validation_total = len_validation_benign + len_validation_melignant\n",
    "validation_s_melignant_benign_ratio =  len_s_validation_melignant/len_s_validation_benign"
   ]
  },
  {
   "cell_type": "code",
   "execution_count": 30,
   "metadata": {},
   "outputs": [
    {
     "name": "stdout",
     "output_type": "stream",
     "text": [
      "Total s_Train Benign: 2603\n",
      "Total s_Train Melignant: 46\n",
      "Train s_Total: 26500\n",
      "Train s_Melignant/Benign: 0.017671917018824434\n",
      "\n",
      "Total s_Validation Benign: 651\n",
      "Total s_Validation Melignant: 12\n",
      "Validation s_Total: 6626\n",
      "Validation s_Melignant/Benign: 0.018433179723502304\n"
     ]
    }
   ],
   "source": [
    "print('Total s_Train Benign:', len_s_train_benign)\n",
    "print('Total s_Train Melignant:', len_s_train_melignant)\n",
    "print('Train s_Total:', len_s_train_total)\n",
    "print('Train s_Melignant/Benign:', train_s_melignant_benign_ratio)\n",
    "\n",
    "print('\\nTotal s_Validation Benign:', len_s_validation_benign)\n",
    "print('Total s_Validation Melignant:', len_s_validation_melignant)\n",
    "print('Validation s_Total:', len_s_validation_total)\n",
    "print('Validation s_Melignant/Benign:',validation_s_melignant_benign_ratio)"
   ]
  }
 ],
 "metadata": {
  "kernelspec": {
   "display_name": "Tensorflow 2.1/Keras Py3.7",
   "language": "python",
   "name": "tensorflow210_py37"
  },
  "language_info": {
   "codemirror_mode": {
    "name": "ipython",
    "version": 3
   },
   "file_extension": ".py",
   "mimetype": "text/x-python",
   "name": "python",
   "nbconvert_exporter": "python",
   "pygments_lexer": "ipython3",
   "version": "3.7.5"
  }
 },
 "nbformat": 4,
 "nbformat_minor": 4
}
