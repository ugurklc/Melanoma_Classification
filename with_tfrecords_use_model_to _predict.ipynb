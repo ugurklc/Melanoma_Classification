{
 "cells": [
  {
   "cell_type": "code",
   "execution_count": 1,
   "metadata": {},
   "outputs": [
    {
     "name": "stderr",
     "output_type": "stream",
     "text": [
      "Using TensorFlow backend.\n"
     ]
    }
   ],
   "source": [
    "import tensorflow as tf\n",
    "import os\n",
    "import matplotlib.pyplot as plt\n",
    "import numpy as np\n",
    "import pandas as pd\n",
    "from functools import partial\n",
    "from tensorflow import keras\n",
    "from tensorflow.keras.models import Sequential\n",
    "from tensorflow.keras.layers import Activation, Dropout, Flatten, Dense, Conv2D, MaxPool2D\n",
    "from datetime import datetime\n",
    "from keras.preprocessing import image"
   ]
  },
  {
   "cell_type": "code",
   "execution_count": 2,
   "metadata": {},
   "outputs": [],
   "source": [
    "# Working directory; to the tfrecord files\n",
    "cwd = os.getcwd()\n",
    "tfrecord_files_dir = (cwd + '/tfrecords')"
   ]
  },
  {
   "cell_type": "code",
   "execution_count": 3,
   "metadata": {},
   "outputs": [],
   "source": [
    "# Prepare the lists of train and test tfrecords files\n",
    "tfrecord_files = os.listdir(tfrecord_files_dir)\n",
    "full_train_tfrecords = []\n",
    "test_tfrecords = []\n",
    "for i in tfrecord_files:\n",
    "    if i[:4] == 'trai':\n",
    "        full_train_tfrecords.append(tfrecord_files_dir + '/' + i)\n",
    "    elif i[:4] == 'test':\n",
    "        test_tfrecords.append(tfrecord_files_dir + '/' + i)"
   ]
  },
  {
   "cell_type": "code",
   "execution_count": 4,
   "metadata": {},
   "outputs": [
    {
     "data": {
      "text/plain": [
       "['/sfs/lustre/bahamut/scratch/uk7ud/Kaggle Melanoma/tfrecords/test14-687.tfrec',\n",
       " '/sfs/lustre/bahamut/scratch/uk7ud/Kaggle Melanoma/tfrecords/test15-677.tfrec',\n",
       " '/sfs/lustre/bahamut/scratch/uk7ud/Kaggle Melanoma/tfrecords/test10-687.tfrec',\n",
       " '/sfs/lustre/bahamut/scratch/uk7ud/Kaggle Melanoma/tfrecords/test11-687.tfrec',\n",
       " '/sfs/lustre/bahamut/scratch/uk7ud/Kaggle Melanoma/tfrecords/test12-687.tfrec',\n",
       " '/sfs/lustre/bahamut/scratch/uk7ud/Kaggle Melanoma/tfrecords/test13-687.tfrec',\n",
       " '/sfs/lustre/bahamut/scratch/uk7ud/Kaggle Melanoma/tfrecords/test01-687.tfrec',\n",
       " '/sfs/lustre/bahamut/scratch/uk7ud/Kaggle Melanoma/tfrecords/test00-687.tfrec',\n",
       " '/sfs/lustre/bahamut/scratch/uk7ud/Kaggle Melanoma/tfrecords/test03-687.tfrec',\n",
       " '/sfs/lustre/bahamut/scratch/uk7ud/Kaggle Melanoma/tfrecords/test02-687.tfrec',\n",
       " '/sfs/lustre/bahamut/scratch/uk7ud/Kaggle Melanoma/tfrecords/test05-687.tfrec',\n",
       " '/sfs/lustre/bahamut/scratch/uk7ud/Kaggle Melanoma/tfrecords/test04-687.tfrec',\n",
       " '/sfs/lustre/bahamut/scratch/uk7ud/Kaggle Melanoma/tfrecords/test07-687.tfrec',\n",
       " '/sfs/lustre/bahamut/scratch/uk7ud/Kaggle Melanoma/tfrecords/test06-687.tfrec',\n",
       " '/sfs/lustre/bahamut/scratch/uk7ud/Kaggle Melanoma/tfrecords/test08-687.tfrec',\n",
       " '/sfs/lustre/bahamut/scratch/uk7ud/Kaggle Melanoma/tfrecords/test09-687.tfrec']"
      ]
     },
     "execution_count": 4,
     "metadata": {},
     "output_type": "execute_result"
    }
   ],
   "source": [
    "test_tfrecords"
   ]
  },
  {
   "cell_type": "code",
   "execution_count": 5,
   "metadata": {},
   "outputs": [],
   "source": [
    "# Define functions to create train and validation datasets\n",
    "\n",
    "def get_test_images(tfrecord):\n",
    "    test_feature_descriptions = {\n",
    "        \"image\": tf.io.VarLenFeature(tf.string),\n",
    "        \"image_name\": tf.io.FixedLenFeature([], tf.string, default_value=\"\"),\n",
    "    }\n",
    "    example = tf.io.parse_single_example(tfrecord, test_feature_descriptions)\n",
    "    image = tf.io.decode_image(example[\"image\"].values[0])\n",
    "    image = tf.reshape(image, shape=[1024, 1024, 3])\n",
    "    image = tf.image.resize(image, input_shape[:2], method='nearest')\n",
    "    return image/255, example[\"image_name\"]\n",
    "\n",
    "def create_test_dataset(filepaths, n_read_threads=5, n_parse_threads=5, batch_size=1):\n",
    "    dataset = tf.data.TFRecordDataset(filepaths, num_parallel_reads=n_read_threads)\n",
    "    dataset = dataset.map(get_test_images, num_parallel_calls=n_parse_threads)\n",
    "    dataset = dataset.batch(batch_size)\n",
    "    return dataset.prefetch(1)"
   ]
  },
  {
   "cell_type": "code",
   "execution_count": 7,
   "metadata": {},
   "outputs": [],
   "source": [
    "input_shape = [300,300,3]"
   ]
  },
  {
   "cell_type": "code",
   "execution_count": 8,
   "metadata": {},
   "outputs": [],
   "source": [
    "test_set = create_test_dataset(test_tfrecords)"
   ]
  },
  {
   "cell_type": "code",
   "execution_count": 9,
   "metadata": {},
   "outputs": [
    {
     "data": {
      "text/plain": [
       "<PrefetchDataset shapes: ((None, 300, 300, 3), (None,)), types: (tf.float32, tf.string)>"
      ]
     },
     "execution_count": 9,
     "metadata": {},
     "output_type": "execute_result"
    }
   ],
   "source": [
    "test_set"
   ]
  },
  {
   "cell_type": "code",
   "execution_count": 10,
   "metadata": {},
   "outputs": [],
   "source": [
    "model = keras.models.load_model('my_model_tfrecords.h5')"
   ]
  },
  {
   "cell_type": "code",
   "execution_count": 51,
   "metadata": {},
   "outputs": [],
   "source": [
    "test_images = []\n",
    "predictions = []\n",
    "\n",
    "def get_predictions(tfrecords):\n",
    "    \n",
    "    for item in tfrecords:\n",
    "        img_no = item[1].numpy()[0]\n",
    "        test_images.append(img_no.decode('utf-8'))\n",
    "        img = item[0] \n",
    "        pred = model.predict_classes(img)\n",
    "        predictions.append(pred[0][0])\n",
    "        \n",
    "    predictions_d = pd.DataFrame(list(zip(test_images, predictions)), columns =['image_name', 'target'])\n",
    "    predictions_df = predictions_d.sort_values(by=['image_name'])\n",
    "    \n",
    "    predictions_df.to_csv(os.path.join(cwd, 'predictions.csv'), index = False, header=True)\n",
    "    \n",
    "    return predictions_df"
   ]
  },
  {
   "cell_type": "code",
   "execution_count": 52,
   "metadata": {},
   "outputs": [],
   "source": [
    "predictions_tfrecords = get_predictions(test_set)"
   ]
  },
  {
   "cell_type": "code",
   "execution_count": 53,
   "metadata": {},
   "outputs": [
    {
     "data": {
      "text/plain": [
       "4854"
      ]
     },
     "execution_count": 53,
     "metadata": {},
     "output_type": "execute_result"
    }
   ],
   "source": [
    "np.array(predictions_tfrecords['target']).sum()"
   ]
  },
  {
   "cell_type": "code",
   "execution_count": null,
   "metadata": {},
   "outputs": [],
   "source": []
  }
 ],
 "metadata": {
  "kernelspec": {
   "display_name": "Tensorflow 2.1/Keras Py3.7",
   "language": "python",
   "name": "tensorflow210_py37"
  },
  "language_info": {
   "codemirror_mode": {
    "name": "ipython",
    "version": 3
   },
   "file_extension": ".py",
   "mimetype": "text/x-python",
   "name": "python",
   "nbconvert_exporter": "python",
   "pygments_lexer": "ipython3",
   "version": "3.7.5"
  }
 },
 "nbformat": 4,
 "nbformat_minor": 4
}
