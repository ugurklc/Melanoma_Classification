{
 "cells": [
  {
   "cell_type": "code",
   "execution_count": 1,
   "metadata": {},
   "outputs": [
    {
     "name": "stderr",
     "output_type": "stream",
     "text": [
      "Using TensorFlow backend.\n"
     ]
    }
   ],
   "source": [
    "import tensorflow as tf\n",
    "import os\n",
    "import matplotlib.pyplot as plt\n",
    "import numpy as np\n",
    "import pandas as pd\n",
    "from functools import partial\n",
    "from tensorflow import keras\n",
    "from tensorflow.keras.models import Sequential\n",
    "from tensorflow.keras.layers import Activation, Dropout, Flatten, Dense, Conv2D, MaxPool2D\n",
    "from keras.layers.advanced_activations import LeakyReLU\n",
    "from datetime import datetime\n",
    "from keras.preprocessing import image"
   ]
  },
  {
   "cell_type": "code",
   "execution_count": 2,
   "metadata": {},
   "outputs": [],
   "source": [
    "# Working directory; to the tfrecord files\n",
    "cwd = os.getcwd()\n",
    "tfrecord_files_dir = (cwd + '/tfrecords')"
   ]
  },
  {
   "cell_type": "code",
   "execution_count": 3,
   "metadata": {},
   "outputs": [],
   "source": [
    "# Prepare the lists of train and test tfrecords files\n",
    "tfrecord_files = os.listdir(tfrecord_files_dir)\n",
    "full_train_tfrecords = []\n",
    "test_tfrecords = []\n",
    "for i in tfrecord_files:\n",
    "    if i[:4] == 'trai':\n",
    "        full_train_tfrecords.append(tfrecord_files_dir + '/' + i)\n",
    "    elif i[:4] == 'test':\n",
    "        test_tfrecords.append(tfrecord_files_dir + '/' + i)"
   ]
  },
  {
   "cell_type": "code",
   "execution_count": 4,
   "metadata": {},
   "outputs": [
    {
     "data": {
      "text/plain": [
       "['/sfs/lustre/bahamut/scratch/uk7ud/Kaggle Melanoma/tfrecords/train12-2071.tfrec',\n",
       " '/sfs/lustre/bahamut/scratch/uk7ud/Kaggle Melanoma/tfrecords/train04-2071.tfrec',\n",
       " '/sfs/lustre/bahamut/scratch/uk7ud/Kaggle Melanoma/tfrecords/train08-2071.tfrec',\n",
       " '/sfs/lustre/bahamut/scratch/uk7ud/Kaggle Melanoma/tfrecords/train03-2071.tfrec',\n",
       " '/sfs/lustre/bahamut/scratch/uk7ud/Kaggle Melanoma/tfrecords/train06-2071.tfrec',\n",
       " '/sfs/lustre/bahamut/scratch/uk7ud/Kaggle Melanoma/tfrecords/train10-2071.tfrec',\n",
       " '/sfs/lustre/bahamut/scratch/uk7ud/Kaggle Melanoma/tfrecords/train01-2071.tfrec',\n",
       " '/sfs/lustre/bahamut/scratch/uk7ud/Kaggle Melanoma/tfrecords/train00-2071.tfrec',\n",
       " '/sfs/lustre/bahamut/scratch/uk7ud/Kaggle Melanoma/tfrecords/train07-2071.tfrec',\n",
       " '/sfs/lustre/bahamut/scratch/uk7ud/Kaggle Melanoma/tfrecords/train11-2071.tfrec',\n",
       " '/sfs/lustre/bahamut/scratch/uk7ud/Kaggle Melanoma/tfrecords/train09-2071.tfrec',\n",
       " '/sfs/lustre/bahamut/scratch/uk7ud/Kaggle Melanoma/tfrecords/train02-2071.tfrec',\n",
       " '/sfs/lustre/bahamut/scratch/uk7ud/Kaggle Melanoma/tfrecords/train14-2071.tfrec',\n",
       " '/sfs/lustre/bahamut/scratch/uk7ud/Kaggle Melanoma/tfrecords/train15-2061.tfrec',\n",
       " '/sfs/lustre/bahamut/scratch/uk7ud/Kaggle Melanoma/tfrecords/train13-2071.tfrec',\n",
       " '/sfs/lustre/bahamut/scratch/uk7ud/Kaggle Melanoma/tfrecords/train05-2071.tfrec']"
      ]
     },
     "execution_count": 4,
     "metadata": {},
     "output_type": "execute_result"
    }
   ],
   "source": [
    "full_train_tfrecords"
   ]
  },
  {
   "cell_type": "code",
   "execution_count": 5,
   "metadata": {},
   "outputs": [
    {
     "data": {
      "text/plain": [
       "['/sfs/lustre/bahamut/scratch/uk7ud/Kaggle Melanoma/tfrecords/test14-687.tfrec',\n",
       " '/sfs/lustre/bahamut/scratch/uk7ud/Kaggle Melanoma/tfrecords/test15-677.tfrec',\n",
       " '/sfs/lustre/bahamut/scratch/uk7ud/Kaggle Melanoma/tfrecords/test10-687.tfrec',\n",
       " '/sfs/lustre/bahamut/scratch/uk7ud/Kaggle Melanoma/tfrecords/test11-687.tfrec',\n",
       " '/sfs/lustre/bahamut/scratch/uk7ud/Kaggle Melanoma/tfrecords/test12-687.tfrec',\n",
       " '/sfs/lustre/bahamut/scratch/uk7ud/Kaggle Melanoma/tfrecords/test13-687.tfrec',\n",
       " '/sfs/lustre/bahamut/scratch/uk7ud/Kaggle Melanoma/tfrecords/test01-687.tfrec',\n",
       " '/sfs/lustre/bahamut/scratch/uk7ud/Kaggle Melanoma/tfrecords/test00-687.tfrec',\n",
       " '/sfs/lustre/bahamut/scratch/uk7ud/Kaggle Melanoma/tfrecords/test03-687.tfrec',\n",
       " '/sfs/lustre/bahamut/scratch/uk7ud/Kaggle Melanoma/tfrecords/test02-687.tfrec',\n",
       " '/sfs/lustre/bahamut/scratch/uk7ud/Kaggle Melanoma/tfrecords/test05-687.tfrec',\n",
       " '/sfs/lustre/bahamut/scratch/uk7ud/Kaggle Melanoma/tfrecords/test04-687.tfrec',\n",
       " '/sfs/lustre/bahamut/scratch/uk7ud/Kaggle Melanoma/tfrecords/test07-687.tfrec',\n",
       " '/sfs/lustre/bahamut/scratch/uk7ud/Kaggle Melanoma/tfrecords/test06-687.tfrec',\n",
       " '/sfs/lustre/bahamut/scratch/uk7ud/Kaggle Melanoma/tfrecords/test08-687.tfrec',\n",
       " '/sfs/lustre/bahamut/scratch/uk7ud/Kaggle Melanoma/tfrecords/test09-687.tfrec']"
      ]
     },
     "execution_count": 5,
     "metadata": {},
     "output_type": "execute_result"
    }
   ],
   "source": [
    "test_tfrecords"
   ]
  },
  {
   "cell_type": "code",
   "execution_count": 6,
   "metadata": {},
   "outputs": [],
   "source": [
    "input_shape = [300,300,3]"
   ]
  },
  {
   "cell_type": "code",
   "execution_count": 7,
   "metadata": {},
   "outputs": [],
   "source": [
    "# Define functions to create train and validation datasets\n",
    "\n",
    "def preprocess(tfrecord):\n",
    "    train_feature_descriptions = {\n",
    "        \"image\": tf.io.VarLenFeature(tf.string),\n",
    "        \"image_name\": tf.io.FixedLenFeature([], tf.string, default_value=\"\"),\n",
    "        \"target\": tf.io.FixedLenFeature([], tf.int64)\n",
    "    }\n",
    "    example = tf.io.parse_single_example(tfrecord, train_feature_descriptions)\n",
    "    image = tf.io.decode_image(example[\"image\"].values[0])\n",
    "    image = tf.reshape(image, shape=[1024, 1024, 3])\n",
    "    image = tf.image.resize(image, input_shape[:2], method='nearest')\n",
    "    return image/255, example[\"target\"]\n",
    "\n",
    "def create_dataset(filepaths, n_read_threads=5, n_parse_threads=5, batch_size=32):\n",
    "    dataset = tf.data.TFRecordDataset(filepaths, num_parallel_reads=n_read_threads)\n",
    "    \n",
    "    train_size = int(0.8 * len(list(dataset)))\n",
    "    valid_size = int(0.2 * len(list(dataset)))\n",
    "    \n",
    "    dataset = dataset.shuffle(len(list(dataset)))\n",
    "    dataset = dataset.map(preprocess, num_parallel_calls=n_parse_threads)\n",
    "    \n",
    "    train_dataset = dataset.take(train_size)\n",
    "    valid_dataset = dataset.skip(valid_size)\n",
    "\n",
    "    train_dataset = train_dataset.batch(batch_size)\n",
    "    valid_dataset = valid_dataset.batch(batch_size)\n",
    "    return train_dataset.prefetch(1), valid_dataset.prefetch(1)"
   ]
  },
  {
   "cell_type": "code",
   "execution_count": null,
   "metadata": {},
   "outputs": [],
   "source": [
    "train_set, valid_set = create_dataset(full_train_tfrecords)"
   ]
  },
  {
   "cell_type": "code",
   "execution_count": null,
   "metadata": {},
   "outputs": [],
   "source": [
    "train_set"
   ]
  },
  {
   "cell_type": "code",
   "execution_count": null,
   "metadata": {},
   "outputs": [],
   "source": [
    "valid_set"
   ]
  },
  {
   "cell_type": "code",
   "execution_count": null,
   "metadata": {},
   "outputs": [],
   "source": [
    "plt.figure(figsize=(18,6))\n",
    "for X, y in train_set.take(1):\n",
    "    for i in range(5):\n",
    "        plt.subplot(1, 5, i + 1)\n",
    "        plt.imshow(X[i].numpy())\n",
    "        plt.axis(\"off\")\n",
    "        plt.title(str(y[i].numpy()))"
   ]
  },
  {
   "cell_type": "code",
   "execution_count": null,
   "metadata": {},
   "outputs": [],
   "source": [
    "DefaultConv2D = partial(keras.layers.Conv2D, kernel_size=3, padding=\"SAME\")\n",
    "\n",
    "model = keras.models.Sequential([\n",
    "    DefaultConv2D(filters=64, kernel_size=3, input_shape=input_shape),\n",
    "    keras.layers.LeakyReLU(alpha=0.2),\n",
    "    keras.layers.MaxPooling2D(pool_size=2),\n",
    "    DefaultConv2D(filters=128),\n",
    "    keras.layers.LeakyReLU(alpha=0.2),\n",
    "    DefaultConv2D(filters=128),\n",
    "    keras.layers.LeakyReLU(alpha=0.2),\n",
    "    keras.layers.MaxPooling2D(pool_size=2),\n",
    "    DefaultConv2D(filters=256),\n",
    "    keras.layers.LeakyReLU(alpha=0.2),\n",
    "    DefaultConv2D(filters=256),\n",
    "    keras.layers.LeakyReLU(alpha=0.2),\n",
    "    keras.layers.MaxPooling2D(pool_size=2),\n",
    "    keras.layers.Flatten(),\n",
    "    keras.layers.Dense(units=128),\n",
    "    keras.layers.LeakyReLU(alpha=0.2),\n",
    "    keras.layers.Dropout(0.5),\n",
    "    keras.layers.Dense(units=64),\n",
    "    keras.layers.LeakyReLU(alpha=0.2),\n",
    "    keras.layers.Dropout(0.5),\n",
    "    keras.layers.Dense(units=1, activation='sigmoid')\n",
    "])\n",
    "\n",
    "model.compile(\n",
    "    optimizer=keras.optimizers.SGD(lr=0.001, momentum=0.9, nesterov=True),\n",
    "    loss='binary_crossentropy',\n",
    "    metrics=[tf.keras.metrics.AUC()])\n",
    "\n",
    "model.summary()"
   ]
  },
  {
   "cell_type": "code",
   "execution_count": null,
   "metadata": {},
   "outputs": [],
   "source": [
    "logs = os.path.join(os.curdir, \"my_logs\", \"run_\" + datetime.now().strftime(\"%Y%m%d_%H%M%S\"))\n",
    "tensorboard_cb = tf.keras.callbacks.TensorBoard(log_dir=logs, histogram_freq=1, profile_batch=10)\n",
    "early_stopping_cb = keras.callbacks.EarlyStopping(patience=20)\n",
    "checkpoint_cb = keras.callbacks.ModelCheckpoint(\"my_model_tfrecords.h5\", save_best_only=True)"
   ]
  },
  {
   "cell_type": "code",
   "execution_count": null,
   "metadata": {},
   "outputs": [],
   "source": [
    "weight_for_0 = (1 / 32542)*(33126)/2.0 \n",
    "weight_for_1 = (1 / 584)*(33126)/2.0\n",
    "\n",
    "class_weight = {0: weight_for_0, 1: weight_for_1}\n",
    "\n",
    "history = model.fit(train_set, \n",
    "                    epochs=200, \n",
    "                    validation_data=valid_set, \n",
    "                    class_weight = class_weight,\n",
    "                    callbacks=[early_stopping_cb, checkpoint_cb, tensorboard_cb])"
   ]
  }
 ],
 "metadata": {
  "kernelspec": {
   "display_name": "Tensorflow 2.1/Keras Py3.7",
   "language": "python",
   "name": "tensorflow210_py37"
  },
  "language_info": {
   "codemirror_mode": {
    "name": "ipython",
    "version": 3
   },
   "file_extension": ".py",
   "mimetype": "text/x-python",
   "name": "python",
   "nbconvert_exporter": "python",
   "pygments_lexer": "ipython3",
   "version": "3.7.5"
  }
 },
 "nbformat": 4,
 "nbformat_minor": 4
}
